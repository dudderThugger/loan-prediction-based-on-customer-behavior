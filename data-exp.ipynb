{
 "cells": [
  {
   "metadata": {},
   "cell_type": "markdown",
   "source": "## Examine data",
   "id": "73e4d7b17617f67d"
  },
  {
   "cell_type": "code",
   "id": "initial_id",
   "metadata": {
    "collapsed": true,
    "ExecuteTime": {
     "end_time": "2024-05-18T12:56:45.328898Z",
     "start_time": "2024-05-18T12:56:45.323896Z"
    }
   },
   "source": [
    "import pandas as pd\n",
    "import numpy as np\n",
    "import matplotlib.pyplot as plt\n",
    "from sklearn.preprocessing import LabelEncoder \n",
    "import seaborn as sns"
   ],
   "outputs": [],
   "execution_count": 19
  },
  {
   "metadata": {
    "ExecuteTime": {
     "end_time": "2024-05-18T13:10:14.499455Z",
     "start_time": "2024-05-18T13:10:14.493454Z"
    }
   },
   "cell_type": "code",
   "source": "data_dir = './data'",
   "id": "a24b1f54d4b0cb2f",
   "outputs": [],
   "execution_count": 28
  },
  {
   "metadata": {
    "ExecuteTime": {
     "end_time": "2024-05-18T13:10:15.554962Z",
     "start_time": "2024-05-18T13:10:14.726962Z"
    }
   },
   "cell_type": "code",
   "source": [
    "df_train = pd.read_csv(data_dir + '/train.csv')\n",
    "df_test = pd.read_csv(data_dir + '/test.csv')\n",
    "df_labels = pd.read_csv(data_dir + '/labels.csv')"
   ],
   "id": "a6c94df152b3ceb5",
   "outputs": [],
   "execution_count": 29
  },
  {
   "metadata": {
    "ExecuteTime": {
     "end_time": "2024-05-18T11:44:42.642443Z",
     "start_time": "2024-05-18T11:44:42.557387Z"
    }
   },
   "cell_type": "code",
   "source": "print(len(df_train[df_train['Risk_Flag'] == 1]) / len(df_train[df_train['Risk_Flag'] == 0]))",
   "id": "b02971fcc9bdf029",
   "outputs": [
    {
     "name": "stdout",
     "output_type": "stream",
     "text": [
      "0.1402508551881414\n"
     ]
    }
   ],
   "execution_count": 28
  },
  {
   "metadata": {
    "ExecuteTime": {
     "end_time": "2024-05-18T13:15:13.123376Z",
     "start_time": "2024-05-18T13:15:12.701355Z"
    }
   },
   "cell_type": "code",
   "source": [
    "profession_order = None \n",
    "city_order = None\n",
    "state_order = None\n",
    "married_order = None\n",
    "house_order = None\n",
    "car_owned_order = None\n",
    "\n",
    "for column in df_train.columns:\n",
    "    if column not in ['Id','Risk_Flag', 'Income']:\n",
    "        df_risk_by_attrib = df_train[[column,'Risk_Flag']].groupby([column]).mean()\n",
    "        \n",
    "        if column in ['Profession', 'CITY', 'STATE', 'Married/Single', 'House_Ownership', 'Car_Ownership']:\n",
    "            df_risk_by_attrib = df_risk_by_attrib.sort_values('Risk_Flag')\n",
    "            \n",
    "            if column == 'Profession':\n",
    "                profession_order = np.array(df_risk_by_attrib.index)\n",
    "            \n",
    "            if column == 'CITY':\n",
    "                city_order = np.array(df_risk_by_attrib.index)\n",
    "                \n",
    "            if column == 'STATE':\n",
    "                state_order = np.array(df_risk_by_attrib.index)\n",
    "                \n",
    "            if column == 'Married/Single':\n",
    "                married_order = np.array(df_risk_by_attrib.index)\n",
    "            \n",
    "            if column == 'House_Ownership':\n",
    "                house_order = np.array(df_risk_by_attrib.index)\n",
    "                \n",
    "            if column == 'Car_Ownership':\n",
    "                car_owned_order = np.array(df_risk_by_attrib.index)\n",
    "        \n",
    "        # if column not in ['Married/Single', 'House_Ownership', 'Car_Ownership']:\n",
    "        #     fig,ax = plt.subplots()\n",
    "        #     \n",
    "        #     ax.plot(df_risk_by_attrib.index, df_risk_by_attrib['Risk_Flag'])\n",
    "        #         \n",
    "        #     plt.xticks(rotation='vertical')\n",
    "        #     plt.ylabel('Chance of risk')\n",
    "        #     plt.xlabel(column)"
   ],
   "id": "be3bd80613b1e8a8",
   "outputs": [
    {
     "name": "stdout",
     "output_type": "stream",
     "text": [
      "AAAA\n"
     ]
    }
   ],
   "execution_count": 37
  },
  {
   "metadata": {
    "ExecuteTime": {
     "end_time": "2024-05-18T13:11:30.856021Z",
     "start_time": "2024-05-18T13:11:30.845268Z"
    }
   },
   "cell_type": "code",
   "source": "married_order",
   "id": "da70ed2a9b1a8ce0",
   "outputs": [],
   "execution_count": 35
  },
  {
   "metadata": {
    "ExecuteTime": {
     "end_time": "2024-05-18T13:20:36.833425Z",
     "start_time": "2024-05-18T13:20:16.588429Z"
    }
   },
   "cell_type": "code",
   "source": [
    "df_train['Profession_labeled'] = df_train['Profession'].apply(lambda x: np.where(profession_order == x)[0][0])\n",
    "df_train['City_labeled'] = df_train['CITY'].apply(lambda x: np.where(city_order == x)[0][0])\n",
    "df_train['State_labeled'] = df_train['STATE'].apply(lambda x: np.where(state_order == x)[0][0])\n",
    "df_train['Married_labeled'] = df_train['Married/Single'].apply(lambda x: np.where(married_order == x)[0][0])\n",
    "df_train['House_labeled'] = df_train['House_Ownership'].apply(lambda x: np.where(house_order == x)[0][0])\n",
    "df_train['Car_labeled'] = df_train['Car_Ownership'].apply(lambda x: np.where(car_owned_order == x)[0][0])\n",
    "\n",
    "df_train"
   ],
   "id": "568d3035beea313b",
   "outputs": [
    {
     "name": "stdout",
     "output_type": "stream",
     "text": [
      "            Id   Income  Age  Experience Married/Single House_Ownership  \\\n",
      "0            1  1303834   23           3         single          rented   \n",
      "1            2  7574516   40          10         single          rented   \n",
      "2            3  3991815   66           4        married          rented   \n",
      "3            4  6256451   41           2         single          rented   \n",
      "4            5  5768871   47          11         single          rented   \n",
      "...        ...      ...  ...         ...            ...             ...   \n",
      "251995  251996  8154883   43          13         single          rented   \n",
      "251996  251997  2843572   26          10         single          rented   \n",
      "251997  251998  4522448   46           7         single          rented   \n",
      "251998  251999  6507128   45           0         single          rented   \n",
      "251999  252000  9070230   70          17         single          rented   \n",
      "\n",
      "       Car_Ownership           Profession                 CITY  \\\n",
      "0                 no  Mechanical_engineer                 Rewa   \n",
      "1                 no   Software_Developer             Parbhani   \n",
      "2                 no     Technical_writer            Alappuzha   \n",
      "3                yes   Software_Developer          Bhubaneswar   \n",
      "4                 no        Civil_servant  Tiruchirappalli[10]   \n",
      "...              ...                  ...                  ...   \n",
      "251995            no              Surgeon              Kolkata   \n",
      "251996            no         Army_officer                 Rewa   \n",
      "251997            no      Design_Engineer      Kalyan-Dombivli   \n",
      "251998            no     Graphic_Designer          Pondicherry   \n",
      "251999            no         Statistician                Avadi   \n",
      "\n",
      "                 STATE  CURRENT_JOB_YRS  CURRENT_HOUSE_YRS  Risk_Flag  \\\n",
      "0       Madhya_Pradesh                3                 13          0   \n",
      "1          Maharashtra                9                 13          0   \n",
      "2               Kerala                4                 10          0   \n",
      "3               Odisha                2                 12          1   \n",
      "4           Tamil_Nadu                3                 14          1   \n",
      "...                ...              ...                ...        ...   \n",
      "251995     West_Bengal                6                 11          0   \n",
      "251996  Madhya_Pradesh                6                 11          0   \n",
      "251997     Maharashtra                7                 12          0   \n",
      "251998      Puducherry                0                 10          0   \n",
      "251999      Tamil_Nadu                7                 11          0   \n",
      "\n",
      "        Profession_labeled  City_labeled  State_labeled  Married_labeled  \\\n",
      "0                        9           165             24                1   \n",
      "1                       46           169              8                1   \n",
      "2                       37           192             26                0   \n",
      "3                       46           316             23                1   \n",
      "4                       18           159              5                1   \n",
      "...                    ...           ...            ...              ...   \n",
      "251995                  16            60             14                1   \n",
      "251996                  48           165             24                1   \n",
      "251997                   5            71              8                1   \n",
      "251998                  14            80             10                1   \n",
      "251999                  17           227              5                1   \n",
      "\n",
      "        House_labeled  Car_labeled  \n",
      "0                   2            1  \n",
      "1                   2            1  \n",
      "2                   2            1  \n",
      "3                   2            0  \n",
      "4                   2            1  \n",
      "...               ...          ...  \n",
      "251995              2            1  \n",
      "251996              2            1  \n",
      "251997              2            1  \n",
      "251998              2            1  \n",
      "251999              2            1  \n",
      "\n",
      "[252000 rows x 19 columns]\n"
     ]
    },
    {
     "ename": "KeyError",
     "evalue": "('Id', 'Income', 'Age', 'Experience', 'Married_labeled', 'House_labeled', 'Car_labeled', 'Profession', 'City_labeled', 'CURRENT_JOB_YRS', 'CURRENT_HOUSE_YRS', 'Risk_Flag')",
     "output_type": "error",
     "traceback": [
      "\u001B[1;31m---------------------------------------------------------------------------\u001B[0m",
      "\u001B[1;31mKeyError\u001B[0m                                  Traceback (most recent call last)",
      "File \u001B[1;32mC:\\ProgramData\\anaconda3\\Lib\\site-packages\\pandas\\core\\indexes\\base.py:3791\u001B[0m, in \u001B[0;36mIndex.get_loc\u001B[1;34m(self, key)\u001B[0m\n\u001B[0;32m   3790\u001B[0m \u001B[38;5;28;01mtry\u001B[39;00m:\n\u001B[1;32m-> 3791\u001B[0m     \u001B[38;5;28;01mreturn\u001B[39;00m \u001B[38;5;28mself\u001B[39m\u001B[38;5;241m.\u001B[39m_engine\u001B[38;5;241m.\u001B[39mget_loc(casted_key)\n\u001B[0;32m   3792\u001B[0m \u001B[38;5;28;01mexcept\u001B[39;00m \u001B[38;5;167;01mKeyError\u001B[39;00m \u001B[38;5;28;01mas\u001B[39;00m err:\n",
      "File \u001B[1;32mindex.pyx:152\u001B[0m, in \u001B[0;36mpandas._libs.index.IndexEngine.get_loc\u001B[1;34m()\u001B[0m\n",
      "File \u001B[1;32mindex.pyx:181\u001B[0m, in \u001B[0;36mpandas._libs.index.IndexEngine.get_loc\u001B[1;34m()\u001B[0m\n",
      "File \u001B[1;32mpandas\\_libs\\hashtable_class_helper.pxi:7080\u001B[0m, in \u001B[0;36mpandas._libs.hashtable.PyObjectHashTable.get_item\u001B[1;34m()\u001B[0m\n",
      "File \u001B[1;32mpandas\\_libs\\hashtable_class_helper.pxi:7088\u001B[0m, in \u001B[0;36mpandas._libs.hashtable.PyObjectHashTable.get_item\u001B[1;34m()\u001B[0m\n",
      "\u001B[1;31mKeyError\u001B[0m: ('Id', 'Income', 'Age', 'Experience', 'Married_labeled', 'House_labeled', 'Car_labeled', 'Profession', 'City_labeled', 'CURRENT_JOB_YRS', 'CURRENT_HOUSE_YRS', 'Risk_Flag')",
      "\nThe above exception was the direct cause of the following exception:\n",
      "\u001B[1;31mKeyError\u001B[0m                                  Traceback (most recent call last)",
      "Cell \u001B[1;32mIn[39], line 11\u001B[0m\n\u001B[0;32m      8\u001B[0m \u001B[38;5;28mprint\u001B[39m(df_train)\n\u001B[0;32m     10\u001B[0m \u001B[38;5;28;01mwith\u001B[39;00m \u001B[38;5;28mopen\u001B[39m(data_dir \u001B[38;5;241m+\u001B[39m \u001B[38;5;124m'\u001B[39m\u001B[38;5;124m/train_encoded.csv\u001B[39m\u001B[38;5;124m'\u001B[39m, \u001B[38;5;124m'\u001B[39m\u001B[38;5;124mw\u001B[39m\u001B[38;5;124m'\u001B[39m) \u001B[38;5;28;01mas\u001B[39;00m f:\n\u001B[1;32m---> 11\u001B[0m     df_train[\u001B[38;5;124m'\u001B[39m\u001B[38;5;124mId\u001B[39m\u001B[38;5;124m'\u001B[39m, \u001B[38;5;124m'\u001B[39m\u001B[38;5;124mIncome\u001B[39m\u001B[38;5;124m'\u001B[39m, \u001B[38;5;124m'\u001B[39m\u001B[38;5;124mAge\u001B[39m\u001B[38;5;124m'\u001B[39m, \u001B[38;5;124m'\u001B[39m\u001B[38;5;124mExperience\u001B[39m\u001B[38;5;124m'\u001B[39m, \u001B[38;5;124m'\u001B[39m\u001B[38;5;124mMarried_labeled\u001B[39m\u001B[38;5;124m'\u001B[39m, \u001B[38;5;124m'\u001B[39m\u001B[38;5;124mHouse_labeled\u001B[39m\u001B[38;5;124m'\u001B[39m, \u001B[38;5;124m'\u001B[39m\u001B[38;5;124mCar_labeled\u001B[39m\u001B[38;5;124m'\u001B[39m, \u001B[38;5;124m'\u001B[39m\u001B[38;5;124mProfession\u001B[39m\u001B[38;5;124m'\u001B[39m, \u001B[38;5;124m'\u001B[39m\u001B[38;5;124mCity_labeled\u001B[39m\u001B[38;5;124m'\u001B[39m, \u001B[38;5;124m'\u001B[39m\u001B[38;5;124mCURRENT_JOB_YRS\u001B[39m\u001B[38;5;124m'\u001B[39m, \u001B[38;5;124m'\u001B[39m\u001B[38;5;124mCURRENT_HOUSE_YRS\u001B[39m\u001B[38;5;124m'\u001B[39m, \u001B[38;5;124m'\u001B[39m\u001B[38;5;124mRisk_Flag\u001B[39m\u001B[38;5;124m'\u001B[39m]\u001B[38;5;241m.\u001B[39mto_csv(f)\n",
      "File \u001B[1;32mC:\\ProgramData\\anaconda3\\Lib\\site-packages\\pandas\\core\\frame.py:3893\u001B[0m, in \u001B[0;36mDataFrame.__getitem__\u001B[1;34m(self, key)\u001B[0m\n\u001B[0;32m   3891\u001B[0m \u001B[38;5;28;01mif\u001B[39;00m \u001B[38;5;28mself\u001B[39m\u001B[38;5;241m.\u001B[39mcolumns\u001B[38;5;241m.\u001B[39mnlevels \u001B[38;5;241m>\u001B[39m \u001B[38;5;241m1\u001B[39m:\n\u001B[0;32m   3892\u001B[0m     \u001B[38;5;28;01mreturn\u001B[39;00m \u001B[38;5;28mself\u001B[39m\u001B[38;5;241m.\u001B[39m_getitem_multilevel(key)\n\u001B[1;32m-> 3893\u001B[0m indexer \u001B[38;5;241m=\u001B[39m \u001B[38;5;28mself\u001B[39m\u001B[38;5;241m.\u001B[39mcolumns\u001B[38;5;241m.\u001B[39mget_loc(key)\n\u001B[0;32m   3894\u001B[0m \u001B[38;5;28;01mif\u001B[39;00m is_integer(indexer):\n\u001B[0;32m   3895\u001B[0m     indexer \u001B[38;5;241m=\u001B[39m [indexer]\n",
      "File \u001B[1;32mC:\\ProgramData\\anaconda3\\Lib\\site-packages\\pandas\\core\\indexes\\base.py:3798\u001B[0m, in \u001B[0;36mIndex.get_loc\u001B[1;34m(self, key)\u001B[0m\n\u001B[0;32m   3793\u001B[0m     \u001B[38;5;28;01mif\u001B[39;00m \u001B[38;5;28misinstance\u001B[39m(casted_key, \u001B[38;5;28mslice\u001B[39m) \u001B[38;5;129;01mor\u001B[39;00m (\n\u001B[0;32m   3794\u001B[0m         \u001B[38;5;28misinstance\u001B[39m(casted_key, abc\u001B[38;5;241m.\u001B[39mIterable)\n\u001B[0;32m   3795\u001B[0m         \u001B[38;5;129;01mand\u001B[39;00m \u001B[38;5;28many\u001B[39m(\u001B[38;5;28misinstance\u001B[39m(x, \u001B[38;5;28mslice\u001B[39m) \u001B[38;5;28;01mfor\u001B[39;00m x \u001B[38;5;129;01min\u001B[39;00m casted_key)\n\u001B[0;32m   3796\u001B[0m     ):\n\u001B[0;32m   3797\u001B[0m         \u001B[38;5;28;01mraise\u001B[39;00m InvalidIndexError(key)\n\u001B[1;32m-> 3798\u001B[0m     \u001B[38;5;28;01mraise\u001B[39;00m \u001B[38;5;167;01mKeyError\u001B[39;00m(key) \u001B[38;5;28;01mfrom\u001B[39;00m \u001B[38;5;21;01merr\u001B[39;00m\n\u001B[0;32m   3799\u001B[0m \u001B[38;5;28;01mexcept\u001B[39;00m \u001B[38;5;167;01mTypeError\u001B[39;00m:\n\u001B[0;32m   3800\u001B[0m     \u001B[38;5;66;03m# If we have a listlike key, _check_indexing_error will raise\u001B[39;00m\n\u001B[0;32m   3801\u001B[0m     \u001B[38;5;66;03m#  InvalidIndexError. Otherwise we fall through and re-raise\u001B[39;00m\n\u001B[0;32m   3802\u001B[0m     \u001B[38;5;66;03m#  the TypeError.\u001B[39;00m\n\u001B[0;32m   3803\u001B[0m     \u001B[38;5;28mself\u001B[39m\u001B[38;5;241m.\u001B[39m_check_indexing_error(key)\n",
      "\u001B[1;31mKeyError\u001B[0m: ('Id', 'Income', 'Age', 'Experience', 'Married_labeled', 'House_labeled', 'Car_labeled', 'Profession', 'City_labeled', 'CURRENT_JOB_YRS', 'CURRENT_HOUSE_YRS', 'Risk_Flag')"
     ]
    }
   ],
   "execution_count": 39
  },
  {
   "metadata": {
    "ExecuteTime": {
     "end_time": "2024-05-18T13:21:24.491055Z",
     "start_time": "2024-05-18T13:21:22.178886Z"
    }
   },
   "cell_type": "code",
   "source": [
    "with open(data_dir + '/train_encoded.csv', 'w') as f:\n",
    "    df_train[['Id', 'Income', 'Age', 'Experience', 'Married_labeled', 'House_labeled', 'Car_labeled', 'Profession', 'City_labeled', 'CURRENT_JOB_YRS', 'CURRENT_HOUSE_YRS', 'Risk_Flag']].to_csv(f)"
   ],
   "id": "c45ebf9302c6e60a",
   "outputs": [],
   "execution_count": 40
  },
  {
   "metadata": {},
   "cell_type": "code",
   "outputs": [],
   "execution_count": null,
   "source": "",
   "id": "e382f87504498715"
  },
  {
   "metadata": {
    "ExecuteTime": {
     "end_time": "2024-05-17T18:45:08.764891Z",
     "start_time": "2024-05-17T18:45:08.590187Z"
    }
   },
   "cell_type": "code",
   "source": [
    "income = df_train['Income'].to_numpy()\n",
    "risk = df_train['Risk_Flag'].to_numpy()\n",
    "bins = np.linspace(np.min(income), np.max(income) + 1e-12, 11)\n",
    "c = np.digitize(income, bins)\n",
    "\n",
    "plt.bar(bins[:-1], [np.mean(risk[c == i]) for i in range(1, len(bins))], width=bins[1]-bins[0], align='edge', fc='turquoise',ec='black')\n",
    "\n",
    "#plt.hist(df_train['Income'], df_train['Risk_Flag'])\n",
    "plt.xlabel('Income')\n",
    "plt.ylabel('Risk of loan')\n",
    "plt.show()\n",
    "# df_train[['Income', 'Risk_Flag']]"
   ],
   "id": "9d6d95e2feca2f4a",
   "outputs": [
    {
     "data": {
      "text/plain": [
       "<Figure size 640x480 with 1 Axes>"
      ],
      "image/png": "[encoded data removed]"
     },
     "metadata": {},
     "output_type": "display_data"
    }
   ],
   "execution_count": 84
  },
  {
   "metadata": {
    "ExecuteTime": {
     "end_time": "2024-05-17T20:06:15.899521Z",
     "start_time": "2024-05-17T20:06:15.385120Z"
    }
   },
   "cell_type": "code",
   "source": [
    "age_and_income = df_train[['Experience','Age','Risk_Flag']].to_numpy()\n",
    "\n",
    "for client in age_and_income[::1000]:\n",
    "    # print(client)\n",
    "    if client[2] == 1:\n",
    "        plt.plot(client[0], client[1], 'ro')\n",
    "    else:\n",
    "        plt.plot(client[0], client[1], 'go')\n",
    "        \n",
    "plt.xlabel('Experience')\n",
    "plt.ylabel('Age')\n",
    "plt.show()"
   ],
   "id": "a3de71994e28824a",
   "outputs": [
    {
     "data": {
      "text/plain": [
       "<Figure size 640x480 with 1 Axes>"
      ],
      "image/png": "[encoded data removed]"
     },
     "metadata": {},
     "output_type": "display_data"
    }
   ],
   "execution_count": 100
  },
  {
   "metadata": {
    "ExecuteTime": {
     "end_time": "2024-05-18T11:51:02.878224Z",
     "start_time": "2024-05-18T11:51:02.709318Z"
    }
   },
   "cell_type": "code",
   "source": [
    "for attrib in ['Car_Ownership','Married/Single', 'House_Ownership']:\n",
    "    df_risk_by_attrib = df_train[[attrib,'Risk_Flag']].groupby([attrib]).mean()\n",
    "    #sns.countplot(x=attrib, hue='Risk_Flag', data=df_train)\n",
    "    plt.show()\n",
    "    print(df_risk_by_attrib)"
   ],
   "id": "e062e881714a1fb9",
   "outputs": [
    {
     "name": "stdout",
     "output_type": "stream",
     "text": [
      "               Risk_Flag\n",
      "Car_Ownership           \n",
      "no              0.128188\n",
      "yes             0.110987\n",
      "                Risk_Flag\n",
      "Married/Single           \n",
      "married          0.102456\n",
      "single           0.125336\n",
      "                 Risk_Flag\n",
      "House_Ownership           \n",
      "norent_noown      0.099527\n",
      "owned             0.089797\n",
      "rented            0.125577\n"
     ]
    }
   ],
   "execution_count": 30
  },
  {
   "metadata": {},
   "cell_type": "markdown",
   "source": "## Training",
   "id": "17b1ba6d90d7dc8e"
  },
  {
   "metadata": {
    "ExecuteTime": {
     "end_time": "2024-05-17T21:03:20.955165Z",
     "start_time": "2024-05-17T21:03:20.761254Z"
    }
   },
   "cell_type": "code",
   "source": [
    "from sklearn.preprocessing import LabelEncoder, OneHotEncoder, StandardScaler\n",
    "from sklearn import svm\n",
    "from sklearn.model_selection import train_test_split"
   ],
   "id": "38f51d5e7fb6919c",
   "outputs": [],
   "execution_count": 4
  },
  {
   "metadata": {
    "ExecuteTime": {
     "end_time": "2024-05-17T21:03:23.606952Z",
     "start_time": "2024-05-17T21:03:23.460121Z"
    }
   },
   "cell_type": "code",
   "source": [
    "x_train, x_test, y_train, y_test = train_test_split(df_train.drop('Risk_Flag',axis=1), df_train['Risk_Flag'], test_size=0.2,random_state=109)\n",
    "\n",
    "print(x_train.shape)\n",
    "print(x_test.shape)"
   ],
   "id": "dee63427e56821c1",
   "outputs": [
    {
     "name": "stdout",
     "output_type": "stream",
     "text": [
      "(201600, 12)\n",
      "(50400, 12)\n"
     ]
    }
   ],
   "execution_count": 5
  },
  {
   "metadata": {
    "ExecuteTime": {
     "end_time": "2024-05-17T21:03:26.142614Z",
     "start_time": "2024-05-17T21:03:25.871491Z"
    }
   },
   "cell_type": "code",
   "source": [
    "# Transforming textual attributes to numerical with LabelEncoder\n",
    "for i, dtype in enumerate(x_train.dtypes):\n",
    "    if dtype == 'object':\n",
    "        le = LabelEncoder()\n",
    "        x_train.iloc[:,i] = le.fit_transform(x_train.iloc[:,i])"
   ],
   "id": "a882621e99273791",
   "outputs": [],
   "execution_count": 6
  },
  {
   "metadata": {
    "ExecuteTime": {
     "end_time": "2024-05-17T21:03:27.022912Z",
     "start_time": "2024-05-17T21:03:26.982933Z"
    }
   },
   "cell_type": "code",
   "source": "x_train",
   "id": "437f792c37afcc84",
   "outputs": [
    {
     "data": {
      "text/plain": [
       "            Id   Income  Age  Experience Married/Single House_Ownership  \\\n",
       "190990  190991   394382   64           6              1               2   \n",
       "193343  193344  1737928   28           8              1               2   \n",
       "122760  122761   499939   25          17              0               2   \n",
       "191065  191066  4806237   79          10              0               2   \n",
       "44890    44891    61219   24           7              1               2   \n",
       "...        ...      ...  ...         ...            ...             ...   \n",
       "16368    16369  2603179   39          20              1               2   \n",
       "213133  213134  7458144   26          13              1               2   \n",
       "138997  138998  4278856   59          12              1               2   \n",
       "19701    19702  1874022   44          15              1               2   \n",
       "44294    44295   420777   41           1              1               2   \n",
       "\n",
       "       Car_Ownership Profession CITY STATE  CURRENT_JOB_YRS  CURRENT_HOUSE_YRS  \n",
       "190990             1         38   35    19                6                 13  \n",
       "193343             0         10  285    23                8                 10  \n",
       "122760             1          8   34    25                9                 14  \n",
       "191065             0         48   10    26                4                 11  \n",
       "44890              0         45   22     2                7                 14  \n",
       "...              ...        ...  ...   ...              ...                ...  \n",
       "16368              1         39  275     2               13                 11  \n",
       "213133             1         47   27    25                7                 11  \n",
       "138997             0         20  303    11                4                 11  \n",
       "19701              0         33  291    22                7                 14  \n",
       "44294              0         39   76     2                1                 11  \n",
       "\n",
       "[201600 rows x 12 columns]"
      ],
      "text/html": [
       "<div>\n",
       "<style scoped>\n",
       "    .dataframe tbody tr th:only-of-type {\n",
       "        vertical-align: middle;\n",
       "    }\n",
       "\n",
       "    .dataframe tbody tr th {\n",
       "        vertical-align: top;\n",
       "    }\n",
       "\n",
       "    .dataframe thead th {\n",
       "        text-align: right;\n",
       "    }\n",
       "</style>\n",
       "<table border=\"1\" class=\"dataframe\">\n",
       "  <thead>\n",
       "    <tr style=\"text-align: right;\">\n",
       "      <th></th>\n",
       "      <th>Id</th>\n",
       "      <th>Income</th>\n",
       "      <th>Age</th>\n",
       "      <th>Experience</th>\n",
       "      <th>Married/Single</th>\n",
       "      <th>House_Ownership</th>\n",
       "      <th>Car_Ownership</th>\n",
       "      <th>Profession</th>\n",
       "      <th>CITY</th>\n",
       "      <th>STATE</th>\n",
       "      <th>CURRENT_JOB_YRS</th>\n",
       "      <th>CURRENT_HOUSE_YRS</th>\n",
       "    </tr>\n",
       "  </thead>\n",
       "  <tbody>\n",
       "    <tr>\n",
       "      <th>190990</th>\n",
       "      <td>190991</td>\n",
       "      <td>394382</td>\n",
       "      <td>64</td>\n",
       "      <td>6</td>\n",
       "      <td>1</td>\n",
       "      <td>2</td>\n",
       "      <td>1</td>\n",
       "      <td>38</td>\n",
       "      <td>35</td>\n",
       "      <td>19</td>\n",
       "      <td>6</td>\n",
       "      <td>13</td>\n",
       "    </tr>\n",
       "    <tr>\n",
       "      <th>193343</th>\n",
       "      <td>193344</td>\n",
       "      <td>1737928</td>\n",
       "      <td>28</td>\n",
       "      <td>8</td>\n",
       "      <td>1</td>\n",
       "      <td>2</td>\n",
       "      <td>0</td>\n",
       "      <td>10</td>\n",
       "      <td>285</td>\n",
       "      <td>23</td>\n",
       "      <td>8</td>\n",
       "      <td>10</td>\n",
       "    </tr>\n",
       "    <tr>\n",
       "      <th>122760</th>\n",
       "      <td>122761</td>\n",
       "      <td>499939</td>\n",
       "      <td>25</td>\n",
       "      <td>17</td>\n",
       "      <td>0</td>\n",
       "      <td>2</td>\n",
       "      <td>1</td>\n",
       "      <td>8</td>\n",
       "      <td>34</td>\n",
       "      <td>25</td>\n",
       "      <td>9</td>\n",
       "      <td>14</td>\n",
       "    </tr>\n",
       "    <tr>\n",
       "      <th>191065</th>\n",
       "      <td>191066</td>\n",
       "      <td>4806237</td>\n",
       "      <td>79</td>\n",
       "      <td>10</td>\n",
       "      <td>0</td>\n",
       "      <td>2</td>\n",
       "      <td>0</td>\n",
       "      <td>48</td>\n",
       "      <td>10</td>\n",
       "      <td>26</td>\n",
       "      <td>4</td>\n",
       "      <td>11</td>\n",
       "    </tr>\n",
       "    <tr>\n",
       "      <th>44890</th>\n",
       "      <td>44891</td>\n",
       "      <td>61219</td>\n",
       "      <td>24</td>\n",
       "      <td>7</td>\n",
       "      <td>1</td>\n",
       "      <td>2</td>\n",
       "      <td>0</td>\n",
       "      <td>45</td>\n",
       "      <td>22</td>\n",
       "      <td>2</td>\n",
       "      <td>7</td>\n",
       "      <td>14</td>\n",
       "    </tr>\n",
       "    <tr>\n",
       "      <th>...</th>\n",
       "      <td>...</td>\n",
       "      <td>...</td>\n",
       "      <td>...</td>\n",
       "      <td>...</td>\n",
       "      <td>...</td>\n",
       "      <td>...</td>\n",
       "      <td>...</td>\n",
       "      <td>...</td>\n",
       "      <td>...</td>\n",
       "      <td>...</td>\n",
       "      <td>...</td>\n",
       "      <td>...</td>\n",
       "    </tr>\n",
       "    <tr>\n",
       "      <th>16368</th>\n",
       "      <td>16369</td>\n",
       "      <td>2603179</td>\n",
       "      <td>39</td>\n",
       "      <td>20</td>\n",
       "      <td>1</td>\n",
       "      <td>2</td>\n",
       "      <td>1</td>\n",
       "      <td>39</td>\n",
       "      <td>275</td>\n",
       "      <td>2</td>\n",
       "      <td>13</td>\n",
       "      <td>11</td>\n",
       "    </tr>\n",
       "    <tr>\n",
       "      <th>213133</th>\n",
       "      <td>213134</td>\n",
       "      <td>7458144</td>\n",
       "      <td>26</td>\n",
       "      <td>13</td>\n",
       "      <td>1</td>\n",
       "      <td>2</td>\n",
       "      <td>1</td>\n",
       "      <td>47</td>\n",
       "      <td>27</td>\n",
       "      <td>25</td>\n",
       "      <td>7</td>\n",
       "      <td>11</td>\n",
       "    </tr>\n",
       "    <tr>\n",
       "      <th>138997</th>\n",
       "      <td>138998</td>\n",
       "      <td>4278856</td>\n",
       "      <td>59</td>\n",
       "      <td>12</td>\n",
       "      <td>1</td>\n",
       "      <td>2</td>\n",
       "      <td>0</td>\n",
       "      <td>20</td>\n",
       "      <td>303</td>\n",
       "      <td>11</td>\n",
       "      <td>4</td>\n",
       "      <td>11</td>\n",
       "    </tr>\n",
       "    <tr>\n",
       "      <th>19701</th>\n",
       "      <td>19702</td>\n",
       "      <td>1874022</td>\n",
       "      <td>44</td>\n",
       "      <td>15</td>\n",
       "      <td>1</td>\n",
       "      <td>2</td>\n",
       "      <td>0</td>\n",
       "      <td>33</td>\n",
       "      <td>291</td>\n",
       "      <td>22</td>\n",
       "      <td>7</td>\n",
       "      <td>14</td>\n",
       "    </tr>\n",
       "    <tr>\n",
       "      <th>44294</th>\n",
       "      <td>44295</td>\n",
       "      <td>420777</td>\n",
       "      <td>41</td>\n",
       "      <td>1</td>\n",
       "      <td>1</td>\n",
       "      <td>2</td>\n",
       "      <td>0</td>\n",
       "      <td>39</td>\n",
       "      <td>76</td>\n",
       "      <td>2</td>\n",
       "      <td>1</td>\n",
       "      <td>11</td>\n",
       "    </tr>\n",
       "  </tbody>\n",
       "</table>\n",
       "<p>201600 rows × 12 columns</p>\n",
       "</div>"
      ]
     },
     "execution_count": 7,
     "metadata": {},
     "output_type": "execute_result"
    }
   ],
   "execution_count": 7
  },
  {
   "metadata": {
    "ExecuteTime": {
     "start_time": "2024-05-17T21:03:30.615325Z"
    }
   },
   "cell_type": "code",
   "source": [
    "clf = svm.SVC(kernel='linear', verbose=True) # Linear Kernel\n",
    "\n",
    "clf.fit(x_train, y_train)"
   ],
   "id": "aab52bee3cb9c90c",
   "outputs": [
    {
     "name": "stdout",
     "output_type": "stream",
     "text": [
      "[LibSVM]............................................................................................................................................................................................................................................................................................................................................................................................................................................................................................................................................................................................................................................................................................................................................................................................................................................................................"
     ]
    }
   ],
   "execution_count": null
  },
  {
   "metadata": {},
   "cell_type": "code",
   "outputs": [],
   "execution_count": null,
   "source": "",
   "id": "ed130afee03c5d7c"
  }
 ],
 "metadata": {
  "kernelspec": {
   "display_name": "Python 3",
   "language": "python",
   "name": "python3"
  },
  "language_info": {
   "codemirror_mode": {
    "name": "ipython",
    "version": 2
   },
   "file_extension": ".py",
   "mimetype": "text/x-python",
   "name": "python",
   "nbconvert_exporter": "python",
   "pygments_lexer": "ipython2",
   "version": "2.7.6"
  }
 },
 "nbformat": 4,
 "nbformat_minor": 5
}
